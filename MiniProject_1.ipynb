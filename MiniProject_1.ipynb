{
  "nbformat": 4,
  "nbformat_minor": 0,
  "metadata": {
    "colab": {
      "name": "MiniProject_1.ipynb",
      "version": "0.3.2",
      "provenance": [],
      "include_colab_link": true
    },
    "kernelspec": {
      "name": "python3",
      "display_name": "Python 3"
    },
    "accelerator": "GPU"
  },
  "cells": [
    {
      "cell_type": "markdown",
      "metadata": {
        "id": "view-in-github",
        "colab_type": "text"
      },
      "source": [
        "<a href=\"https://colab.research.google.com/github/SankalpA11/DRL/blob/OPEN-AI-gym/MiniProject_1.ipynb\" target=\"_parent\"><img src=\"https://colab.research.google.com/assets/colab-badge.svg\" alt=\"Open In Colab\"/></a>"
      ]
    },
    {
      "cell_type": "markdown",
      "metadata": {
        "id": "oWiFwBPyhb9C",
        "colab_type": "text"
      },
      "source": [
        "Agent class\n"
      ]
    },
    {
      "cell_type": "code",
      "metadata": {
        "id": "BrwUz5zYbJcy",
        "colab_type": "code",
        "colab": {}
      },
      "source": [
        "import numpy as np\n",
        "from collections import defaultdict\n",
        "import random\n",
        "random.seed(a=47, version=2)\n",
        "\n",
        "class Agent:\n",
        "\n",
        "    def __init__(self, nA=6, epsilon=0.1, alpha=0.1, gamma=0.9):\n",
        "        \"\"\" Initialize agent.\n",
        "        Params\n",
        "        ======\n",
        "        - nA: number of actions available to the agent\n",
        "        \"\"\"\n",
        "        self.nA = nA\n",
        "        self.Q = defaultdict(lambda: np.zeros(self.nA))\n",
        "        self.epsilon = epsilon\n",
        "        self.alpha = alpha\n",
        "        self.gamma = gamma\n",
        "\n",
        "    def select_action(self, state):\n",
        "        \"\"\" Given the state, select an action.\n",
        "        Params\n",
        "        ======\n",
        "        - state: the current state of the environment\n",
        "        Returns\n",
        "        =======\n",
        "        - action: an integer, compatible with the task's action space\n",
        "        \"\"\"\n",
        "        if random.random() < self.epsilon:\n",
        "            action = random.choice(range(self.nA))\n",
        "        else:\n",
        "            action = np.argmax(self.Q[state])\n",
        "        \n",
        "        return action\n",
        "\n",
        "    def step(self, state, action, reward, next_state, done):\n",
        "        \"\"\" Update the agent's knowledge, using the most recently sampled tuple.\n",
        "        Params\n",
        "        ======\n",
        "        - state: the previous state of the environment\n",
        "        - action: the agent's previous choice of action\n",
        "        - reward: last reward received\n",
        "        - next_state: the current state of the environment\n",
        "        - done: whether the episode is complete (True or False)\n",
        "        \"\"\"\n",
        "        next_action = np.argmax(self.Q[next_state])\n",
        "        self.Q[state][action] += self.alpha*(reward + self.gamma*self.Q[next_state][next_action] - self.Q[state][action])\n",
        "        \n",
        "        if done:\n",
        "            self.epsilon /= 2.0"
      ],
      "execution_count": 0,
      "outputs": []
    },
    {
      "cell_type": "markdown",
      "metadata": {
        "id": "hffeitx5byaj",
        "colab_type": "text"
      },
      "source": [
        "Monitor\n"
      ]
    },
    {
      "cell_type": "code",
      "metadata": {
        "id": "SdklfSldbu0Q",
        "colab_type": "code",
        "colab": {}
      },
      "source": [
        "from collections import deque\n",
        "import sys\n",
        "import math\n",
        "import numpy as np\n",
        "\n",
        "def interact(env, agent, num_episodes=20000, window=100):\n",
        "    \"\"\" Monitor agent's performance.\n",
        "    \n",
        "    Params\n",
        "    ======\n",
        "    - env: instance of OpenAI Gym's Taxi-v1 environment\n",
        "    - agent: instance of class Agent (see Agent.py for details)\n",
        "    - num_episodes: number of episodes of agent-environment interaction\n",
        "    - window: number of episodes to consider when calculating average rewards\n",
        "    Returns\n",
        "    =======\n",
        "    - avg_rewards: deque containing average rewards\n",
        "    - best_avg_reward: largest value in the avg_rewards deque\n",
        "    \"\"\"\n",
        "    # initialize average rewards\n",
        "    avg_rewards = deque(maxlen=num_episodes)\n",
        "    # initialize best average reward\n",
        "    best_avg_reward = -math.inf\n",
        "    # initialize monitor for most recent rewards\n",
        "    samp_rewards = deque(maxlen=window)\n",
        "    # for each episode\n",
        "    for i_episode in range(1, num_episodes+1):\n",
        "        # begin the episode\n",
        "        state = env.reset()\n",
        "        # initialize the sampled reward\n",
        "        samp_reward = 0\n",
        "        while True:\n",
        "            # agent selects an action\n",
        "            action = agent.select_action(state)\n",
        "            # agent performs the selected action\n",
        "            next_state, reward, done, _ = env.step(action)\n",
        "            # agent performs internal updates based on sampled experience\n",
        "            agent.step(state, action, reward, next_state, done)\n",
        "            # update the sampled reward\n",
        "            samp_reward += reward\n",
        "            # update the state (s <- s') to next time step\n",
        "            state = next_state\n",
        "            if done:\n",
        "                # save final sampled reward\n",
        "                samp_rewards.append(samp_reward)\n",
        "                break\n",
        "        if (i_episode >= 100):\n",
        "            # get average reward from last 100 episodes\n",
        "            avg_reward = np.mean(samp_rewards)\n",
        "            # append to deque\n",
        "            avg_rewards.append(avg_reward)\n",
        "            # update best average reward\n",
        "            if avg_reward > best_avg_reward:\n",
        "                best_avg_reward = avg_reward\n",
        "        # monitor progress\n",
        "        print(\"\\rEpisode {}/{} || Best average reward {}\".format(i_episode, num_episodes, best_avg_reward), end=\"\")\n",
        "        sys.stdout.flush()\n",
        "        # check if task is solved (according to OpenAI Gym)\n",
        "        if best_avg_reward >= 9.7:\n",
        "            print('\\nEnvironment solved in {} episodes.'.format(i_episode), end=\"\")\n",
        "            break\n",
        "        if i_episode == num_episodes: print('\\n')\n",
        "    return avg_rewards, best_avg_reward"
      ],
      "execution_count": 0,
      "outputs": []
    },
    {
      "cell_type": "markdown",
      "metadata": {
        "id": "s9N5lCxMhhZ3",
        "colab_type": "text"
      },
      "source": [
        "Main code for driving the functions"
      ]
    },
    {
      "cell_type": "code",
      "metadata": {
        "id": "OuDPVoE0Y-DP",
        "colab_type": "code",
        "colab": {
          "base_uri": "https://localhost:8080/",
          "height": 50
        },
        "outputId": "6fd0f907-62c9-408d-864d-1e26807d7a98"
      },
      "source": [
        "#from agent import Agent\n",
        "#from monitor import interact\n",
        "import gym\n",
        "import numpy as np\n",
        "\n",
        "env = gym.make('Taxi-v2')\n",
        "agent = Agent()\n",
        "avg_rewards, best_avg_reward = interact(env, agent)"
      ],
      "execution_count": 31,
      "outputs": [
        {
          "output_type": "stream",
          "text": [
            "Episode 20000/20000 || Best average reward 9.38\n",
            "\n"
          ],
          "name": "stdout"
        }
      ]
    },
    {
      "cell_type": "markdown",
      "metadata": {
        "id": "TylCvwfXcoII",
        "colab_type": "text"
      },
      "source": [
        " nA=6, epsilon=0.11, alpha=0.1, gamma=0.8) B.A. reward = 9.22\n",
        " \n",
        " \n",
        "nA=6, epsilon=0.2, alpha=0.1, gamma=0.9) ba reward = 9.21\n",
        "\n",
        "nA=6, epsilon=0.1, alpha=0.1, gamma=0.99) ba reward = 9.3\n",
        "\n",
        " nA=6, epsilon=0.1, alpha=0.4, gamma=0.99) ba reward = 9.18\n",
        " \n",
        "  nA=6, epsilon=0.11, alpha=0.01, gamma=0.99) ba reward = 8.97\n",
        "  \n",
        "  \n",
        "   nA=6, epsilon=0.11, alpha=0.1, gamma=0.999999999999) = 9.3"
      ]
    },
    {
      "cell_type": "code",
      "metadata": {
        "id": "tnZPGxEKglU1",
        "colab_type": "code",
        "colab": {
          "base_uri": "https://localhost:8080/",
          "height": 238
        },
        "outputId": "9d339869-34f0-493e-cd26-2eddd2a655a2"
      },
      "source": [
        "!pip install bayesian-optimization"
      ],
      "execution_count": 3,
      "outputs": [
        {
          "output_type": "stream",
          "text": [
            "Collecting bayesian-optimization\n",
            "  Downloading https://files.pythonhosted.org/packages/72/0c/173ac467d0a53e33e41b521e4ceba74a8ac7c7873d7b857a8fbdca88302d/bayesian-optimization-1.0.1.tar.gz\n",
            "Requirement already satisfied: numpy>=1.9.0 in /usr/local/lib/python3.6/dist-packages (from bayesian-optimization) (1.16.4)\n",
            "Requirement already satisfied: scipy>=0.14.0 in /usr/local/lib/python3.6/dist-packages (from bayesian-optimization) (1.3.0)\n",
            "Requirement already satisfied: scikit-learn>=0.18.0 in /usr/local/lib/python3.6/dist-packages (from bayesian-optimization) (0.21.2)\n",
            "Requirement already satisfied: joblib>=0.11 in /usr/local/lib/python3.6/dist-packages (from scikit-learn>=0.18.0->bayesian-optimization) (0.13.2)\n",
            "Building wheels for collected packages: bayesian-optimization\n",
            "  Building wheel for bayesian-optimization (setup.py) ... \u001b[?25l\u001b[?25hdone\n",
            "  Stored in directory: /root/.cache/pip/wheels/1d/0d/3b/6b9d4477a34b3905f246ff4e7acf6aafd4cc9b77d473629b77\n",
            "Successfully built bayesian-optimization\n",
            "Installing collected packages: bayesian-optimization\n",
            "Successfully installed bayesian-optimization-1.0.1\n"
          ],
          "name": "stdout"
        }
      ]
    },
    {
      "cell_type": "code",
      "metadata": {
        "id": "LR6SbptTgtMo",
        "colab_type": "code",
        "colab": {}
      },
      "source": [
        "\n",
        "num_episodes = 20000"
      ],
      "execution_count": 0,
      "outputs": []
    },
    {
      "cell_type": "code",
      "metadata": {
        "id": "lp3r2-ktgyGX",
        "colab_type": "code",
        "colab": {
          "base_uri": "https://localhost:8080/",
          "height": 50
        },
        "outputId": "ff437697-8237-42a8-ff2e-85d507801317"
      },
      "source": [
        "#from agent import Agent\n",
        "#from monitor import interact\n",
        "import gym\n",
        "import numpy as np\n",
        "from bayes_opt import BayesianOptimization\n",
        "\n",
        "env = gym.make('Taxi-v2')\n",
        "agent = Agent(epsilon=0.1, alpha=0.1, gamma=0.9)\n",
        "avg_rewards, best_avg_reward = interact(env, agent, num_episodes)"
      ],
      "execution_count": 5,
      "outputs": [
        {
          "output_type": "stream",
          "text": [
            "Episode 20000/20000 || Best average reward 9.15\n",
            "\n"
          ],
          "name": "stdout"
        }
      ]
    },
    {
      "cell_type": "code",
      "metadata": {
        "id": "ECBumvV4hCKg",
        "colab_type": "code",
        "colab": {}
      },
      "source": [
        "def interact_wrapper(epsilon, alpha, gamma):\n",
        "    agent = Agent(epsilon=epsilon, alpha=alpha, gamma=gamma)\n",
        "    avg_rewards, best_avg_reward = interact(env, agent, num_episodes)\n",
        "    return best_avg_reward"
      ],
      "execution_count": 0,
      "outputs": []
    },
    {
      "cell_type": "code",
      "metadata": {
        "id": "1eEMe8aBhD6o",
        "colab_type": "code",
        "colab": {
          "base_uri": "https://localhost:8080/",
          "height": 1000
        },
        "outputId": "290af704-2474-4cf2-f308-417e7e6c473e"
      },
      "source": [
        "pbounds = {'epsilon': (0.01, 0.1), 'alpha': (0.1, 0.5), 'gamma': (0.5, 1.0)}\n",
        "\n",
        "optimizer = BayesianOptimization(\n",
        "    f=interact_wrapper,\n",
        "    pbounds=pbounds,\n",
        "    random_state=47\n",
        ")\n",
        "\n",
        "optimizer.probe(\n",
        "    params={'epsilon': 0.1, 'alpha': 0.1, 'gamma': 0.9},\n",
        "    lazy=True,\n",
        ")\n",
        "\n",
        "optimizer.maximize(\n",
        "    init_points=3,\n",
        "    n_iter=30\n",
        ")"
      ],
      "execution_count": 8,
      "outputs": [
        {
          "output_type": "stream",
          "text": [
            "|   iter    |  target   |   alpha   |  epsilon  |   gamma   |\n",
            "-------------------------------------------------------------\n",
            "Episode 20000/20000 || Best average reward 9.31\n",
            "\n",
            "| \u001b[0m 1       \u001b[0m | \u001b[0m 9.31    \u001b[0m | \u001b[0m 0.1     \u001b[0m | \u001b[0m 0.1     \u001b[0m | \u001b[0m 0.9     \u001b[0m |\n",
            "Episode 20000/20000 || Best average reward 9.27\n",
            "\n",
            "| \u001b[0m 2       \u001b[0m | \u001b[0m 9.27    \u001b[0m | \u001b[0m 0.1454  \u001b[0m | \u001b[0m 0.0977  \u001b[0m | \u001b[0m 0.8644  \u001b[0m |\n",
            "Episode 20000/20000 || Best average reward 9.42\n",
            "\n",
            "| \u001b[95m 3       \u001b[0m | \u001b[95m 9.42    \u001b[0m | \u001b[95m 0.2406  \u001b[0m | \u001b[95m 0.07368 \u001b[0m | \u001b[95m 0.8998  \u001b[0m |\n",
            "Episode 20000/20000 || Best average reward 9.06\n",
            "\n",
            "| \u001b[0m 5       \u001b[0m | \u001b[0m 9.06    \u001b[0m | \u001b[0m 0.5     \u001b[0m | \u001b[0m 0.1     \u001b[0m | \u001b[0m 1.0     \u001b[0m |\n",
            "Episode 20000/20000 || Best average reward 9.13\n",
            "\n",
            "| \u001b[0m 7       \u001b[0m | \u001b[0m 9.13    \u001b[0m | \u001b[0m 0.1     \u001b[0m | \u001b[0m 0.01    \u001b[0m | \u001b[0m 0.5     \u001b[0m |\n",
            "Episode 20000/20000 || Best average reward 9.46\n",
            "\n",
            "| \u001b[95m 8       \u001b[0m | \u001b[95m 9.46    \u001b[0m | \u001b[95m 0.1     \u001b[0m | \u001b[95m 0.01    \u001b[0m | \u001b[95m 1.0     \u001b[0m |\n",
            "Episode 20000/20000 || Best average reward 9.33\n",
            "\n",
            "| \u001b[0m 9       \u001b[0m | \u001b[0m 9.33    \u001b[0m | \u001b[0m 0.3521  \u001b[0m | \u001b[0m 0.1     \u001b[0m | \u001b[0m 0.5     \u001b[0m |\n",
            "Episode 20000/20000 || Best average reward 9.33\n",
            "\n",
            "| \u001b[0m 10      \u001b[0m | \u001b[0m 9.33    \u001b[0m | \u001b[0m 0.3023  \u001b[0m | \u001b[0m 0.01    \u001b[0m | \u001b[0m 1.0     \u001b[0m |\n",
            "Episode 20000/20000 || Best average reward 9.27\n",
            "\n",
            "| \u001b[0m 11      \u001b[0m | \u001b[0m 9.27    \u001b[0m | \u001b[0m 0.5     \u001b[0m | \u001b[0m 0.1     \u001b[0m | \u001b[0m 0.6655  \u001b[0m |\n",
            "Episode 20000/20000 || Best average reward 9.21\n",
            "\n",
            "| \u001b[0m 12      \u001b[0m | \u001b[0m 9.21    \u001b[0m | \u001b[0m 0.1553  \u001b[0m | \u001b[0m 0.1     \u001b[0m | \u001b[0m 1.0     \u001b[0m |\n",
            "Episode 20000/20000 || Best average reward 9.32\n",
            "\n",
            "| \u001b[0m 13      \u001b[0m | \u001b[0m 9.32    \u001b[0m | \u001b[0m 0.3239  \u001b[0m | \u001b[0m 0.01    \u001b[0m | \u001b[0m 0.6371  \u001b[0m |\n",
            "Episode 20000/20000 || Best average reward 9.25\n",
            "\n",
            "| \u001b[0m 14      \u001b[0m | \u001b[0m 9.25    \u001b[0m | \u001b[0m 0.1     \u001b[0m | \u001b[0m 0.01    \u001b[0m | \u001b[0m 0.8561  \u001b[0m |\n",
            "Episode 20000/20000 || Best average reward 9.16\n",
            "\n",
            "| \u001b[0m 15      \u001b[0m | \u001b[0m 9.16    \u001b[0m | \u001b[0m 0.5     \u001b[0m | \u001b[0m 0.01    \u001b[0m | \u001b[0m 0.8027  \u001b[0m |\n",
            "Episode 20000/20000 || Best average reward 9.31\n",
            "\n",
            "| \u001b[0m 17      \u001b[0m | \u001b[0m 9.31    \u001b[0m | \u001b[0m 0.3181  \u001b[0m | \u001b[0m 0.01    \u001b[0m | \u001b[0m 0.5     \u001b[0m |\n",
            "Episode 20000/20000 || Best average reward 9.26\n",
            "\n",
            "| \u001b[0m 18      \u001b[0m | \u001b[0m 9.26    \u001b[0m | \u001b[0m 0.3284  \u001b[0m | \u001b[0m 0.1     \u001b[0m | \u001b[0m 0.7458  \u001b[0m |\n",
            "Episode 20000/20000 || Best average reward 9.07\n",
            "\n",
            "| \u001b[0m 21      \u001b[0m | \u001b[0m 9.07    \u001b[0m | \u001b[0m 0.1     \u001b[0m | \u001b[0m 0.1     \u001b[0m | \u001b[0m 0.6247  \u001b[0m |\n",
            "Episode 20000/20000 || Best average reward 9.32\n",
            "\n",
            "| \u001b[0m 23      \u001b[0m | \u001b[0m 9.32    \u001b[0m | \u001b[0m 0.1961  \u001b[0m | \u001b[0m 0.1     \u001b[0m | \u001b[0m 0.5     \u001b[0m |\n",
            "Episode 20000/20000 || Best average reward 9.4\n",
            "\n",
            "| \u001b[0m 25      \u001b[0m | \u001b[0m 9.4     \u001b[0m | \u001b[0m 0.5     \u001b[0m | \u001b[0m 0.1     \u001b[0m | \u001b[0m 0.8357  \u001b[0m |\n",
            "Episode 20000/20000 || Best average reward 9.29\n",
            "\n",
            "| \u001b[0m 26      \u001b[0m | \u001b[0m 9.29    \u001b[0m | \u001b[0m 0.1895  \u001b[0m | \u001b[0m 0.01    \u001b[0m | \u001b[0m 1.0     \u001b[0m |\n",
            "Episode 20000/20000 || Best average reward 9.34\n",
            "\n",
            "| \u001b[0m 27      \u001b[0m | \u001b[0m 9.34    \u001b[0m | \u001b[0m 0.2722  \u001b[0m | \u001b[0m 0.1     \u001b[0m | \u001b[0m 0.5881  \u001b[0m |\n",
            "Episode 20000/20000 || Best average reward 9.27\n",
            "\n",
            "| \u001b[0m 28      \u001b[0m | \u001b[0m 9.27    \u001b[0m | \u001b[0m 0.2004  \u001b[0m | \u001b[0m 0.01    \u001b[0m | \u001b[0m 0.5968  \u001b[0m |\n",
            "Episode 20000/20000 || Best average reward 8.99\n",
            "\n",
            "| \u001b[0m 29      \u001b[0m | \u001b[0m 8.99    \u001b[0m | \u001b[0m 0.4346  \u001b[0m | \u001b[0m 0.1     \u001b[0m | \u001b[0m 0.7866  \u001b[0m |\n",
            "Episode 20000/20000 || Best average reward 9.31\n",
            "\n",
            "| \u001b[0m 32      \u001b[0m | \u001b[0m 9.31    \u001b[0m | \u001b[0m 0.2818  \u001b[0m | \u001b[0m 0.1     \u001b[0m | \u001b[0m 0.8399  \u001b[0m |\n",
            "Episode 20000/20000 || Best average reward 9.23\n",
            "\n",
            "| \u001b[0m 33      \u001b[0m | \u001b[0m 9.23    \u001b[0m | \u001b[0m 0.1     \u001b[0m | \u001b[0m 0.01    \u001b[0m | \u001b[0m 0.9421  \u001b[0m |\n",
            "Episode 20000/20000 || Best average reward 9.17\n",
            "\n",
            "| \u001b[0m 34      \u001b[0m | \u001b[0m 9.17    \u001b[0m | \u001b[0m 0.1     \u001b[0m | \u001b[0m 0.01    \u001b[0m | \u001b[0m 0.7112  \u001b[0m |\n",
            "=============================================================\n"
          ],
          "name": "stdout"
        }
      ]
    }
  ]
}