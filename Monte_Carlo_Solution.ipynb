{
  "nbformat": 4,
  "nbformat_minor": 0,
  "metadata": {
    "colab": {
      "name": "Monte_Carlo_Solution.ipynb",
      "version": "0.3.2",
      "provenance": [],
      "toc_visible": true,
      "include_colab_link": true
    },
    "language_info": {
      "codemirror_mode": {
        "name": "ipython",
        "version": 3
      },
      "file_extension": ".py",
      "mimetype": "text/x-python",
      "name": "python",
      "nbconvert_exporter": "python",
      "pygments_lexer": "ipython3",
      "version": "3.6.5"
    },
    "kernelspec": {
      "display_name": "Python 3",
      "language": "python",
      "name": "python3"
    }
  },
  "cells": [
    {
      "cell_type": "markdown",
      "metadata": {
        "id": "view-in-github",
        "colab_type": "text"
      },
      "source": [
        "<a href=\"https://colab.research.google.com/github/SankalpA11/DRL/blob/OPEN-AI-gym/Monte_Carlo_Solution.ipynb\" target=\"_parent\"><img src=\"https://colab.research.google.com/assets/colab-badge.svg\" alt=\"Open In Colab\"/></a>"
      ]
    },
    {
      "cell_type": "markdown",
      "metadata": {
        "id": "2r7f5nAl2Bw9",
        "colab_type": "text"
      },
      "source": [
        "# Monte Carlo Methods\n",
        "\n",
        "In this notebook, you will write your own implementations of many Monte Carlo (MC) algorithms. \n",
        "\n",
        "While we have provided some starter code, you are welcome to erase these hints and write your code from scratch.\n",
        "\n",
        "### Part 0: Explore BlackjackEnv\n",
        "\n",
        "We begin by importing the necessary packages."
      ]
    },
    {
      "cell_type": "code",
      "metadata": {
        "id": "4NZosr0i3MfL",
        "colab_type": "code",
        "colab": {}
      },
      "source": [
        "import numpy as np\n",
        "from mpl_toolkits.mplot3d import Axes3D\n",
        "import matplotlib.pyplot as plt\n",
        "from mpl_toolkits.axes_grid1 import make_axes_locatable\n",
        "\n",
        "def plot_blackjack_values(V):\n",
        "\n",
        "    def get_Z(x, y, usable_ace):\n",
        "        if (x,y,usable_ace) in V:\n",
        "            return V[x,y,usable_ace]\n",
        "        else:\n",
        "            return 0\n",
        "\n",
        "    def get_figure(usable_ace, ax):\n",
        "        x_range = np.arange(11, 22)\n",
        "        y_range = np.arange(1, 11)\n",
        "        X, Y = np.meshgrid(x_range, y_range)\n",
        "        \n",
        "        Z = np.array([get_Z(x,y,usable_ace) for x,y in zip(np.ravel(X), np.ravel(Y))]).reshape(X.shape)\n",
        "\n",
        "        surf = ax.plot_surface(X, Y, Z, rstride=1, cstride=1, cmap=plt.cm.coolwarm, vmin=-1.0, vmax=1.0)\n",
        "        ax.set_xlabel('Player\\'s Current Sum')\n",
        "        ax.set_ylabel('Dealer\\'s Showing Card')\n",
        "        ax.set_zlabel('State Value')\n",
        "        ax.view_init(ax.elev, -120)\n",
        "\n",
        "    fig = plt.figure(figsize=(20, 20))\n",
        "    ax = fig.add_subplot(211, projection='3d')\n",
        "    ax.set_title('Usable Ace')\n",
        "    get_figure(True, ax)\n",
        "    ax = fig.add_subplot(212, projection='3d')\n",
        "    ax.set_title('No Usable Ace')\n",
        "    get_figure(False, ax)\n",
        "    plt.show()\n",
        "\n",
        "def plot_policy(policy):\n",
        "\n",
        "    def get_Z(x, y, usable_ace):\n",
        "        if (x,y,usable_ace) in policy:\n",
        "            return policy[x,y,usable_ace]\n",
        "        else:\n",
        "            return 1\n",
        "\n",
        "    def get_figure(usable_ace, ax):\n",
        "        x_range = np.arange(11, 22)\n",
        "        y_range = np.arange(10, 0, -1)\n",
        "        X, Y = np.meshgrid(x_range, y_range)\n",
        "        Z = np.array([[get_Z(x,y,usable_ace) for x in x_range] for y in y_range])\n",
        "        surf = ax.imshow(Z, cmap=plt.get_cmap('Pastel2', 2), vmin=0, vmax=1, extent=[10.5, 21.5, 0.5, 10.5])\n",
        "        plt.xticks(x_range)\n",
        "        plt.yticks(y_range)\n",
        "        plt.gca().invert_yaxis()\n",
        "        ax.set_xlabel('Player\\'s Current Sum')\n",
        "        ax.set_ylabel('Dealer\\'s Showing Card')\n",
        "        ax.grid(color='w', linestyle='-', linewidth=1)\n",
        "        divider = make_axes_locatable(ax)\n",
        "        cax = divider.append_axes(\"right\", size=\"5%\", pad=0.1)\n",
        "        cbar = plt.colorbar(surf, ticks=[0,1], cax=cax)\n",
        "        cbar.ax.set_yticklabels(['0 (STICK)','1 (HIT)'])\n",
        "            \n",
        "    fig = plt.figure(figsize=(15, 15))\n",
        "    ax = fig.add_subplot(121)\n",
        "    ax.set_title('Usable Ace')\n",
        "    get_figure(True, ax)\n",
        "    ax = fig.add_subplot(122)\n",
        "    ax.set_title('No Usable Ace')\n",
        "    get_figure(False, ax)\n",
        "    plt.show()"
      ],
      "execution_count": 0,
      "outputs": []
    },
    {
      "cell_type": "code",
      "metadata": {
        "id": "USZWmN7x2Bw_",
        "colab_type": "code",
        "colab": {}
      },
      "source": [
        "import sys\n",
        "import gym\n",
        "import numpy as np\n",
        "from collections import defaultdict\n",
        "\n",
        "#from plot_utils.py import plot_blackjack_values, plot_policy"
      ],
      "execution_count": 0,
      "outputs": []
    },
    {
      "cell_type": "markdown",
      "metadata": {
        "id": "F5s36MLW2BxL",
        "colab_type": "text"
      },
      "source": [
        "Use the code cell below to create an instance of the [Blackjack](https://github.com/openai/gym/blob/master/gym/envs/toy_text/blackjack.py) environment."
      ]
    },
    {
      "cell_type": "code",
      "metadata": {
        "id": "snq_RqJJ2BxM",
        "colab_type": "code",
        "colab": {}
      },
      "source": [
        "env = gym.make('Blackjack-v0')"
      ],
      "execution_count": 0,
      "outputs": []
    },
    {
      "cell_type": "markdown",
      "metadata": {
        "id": "xVotLC-32BxP",
        "colab_type": "text"
      },
      "source": [
        "Each state is a 3-tuple of:\n",
        "- the player's current sum $\\in \\{0, 1, \\ldots, 31\\}$,\n",
        "- the dealer's face up card $\\in \\{1, \\ldots, 10\\}$, and\n",
        "- whether or not the player has a usable ace (`no` $=0$, `yes` $=1$).\n",
        "\n",
        "The agent has two potential actions:\n",
        "\n",
        "```\n",
        "    STICK = 0\n",
        "    HIT = 1\n",
        "```\n",
        "Verify this by running the code cell below."
      ]
    },
    {
      "cell_type": "code",
      "metadata": {
        "id": "_EQ4nQUx2BxQ",
        "colab_type": "code",
        "colab": {
          "base_uri": "https://localhost:8080/",
          "height": 50
        },
        "outputId": "91c8475f-9be6-4fd2-c9d3-e65fd0b8a40f"
      },
      "source": [
        "print(env.observation_space)\n",
        "print(env.action_space)"
      ],
      "execution_count": 13,
      "outputs": [
        {
          "output_type": "stream",
          "text": [
            "Tuple(Discrete(32), Discrete(11), Discrete(2))\n",
            "Discrete(2)\n"
          ],
          "name": "stdout"
        }
      ]
    },
    {
      "cell_type": "markdown",
      "metadata": {
        "id": "Aro9bt2r2BxT",
        "colab_type": "text"
      },
      "source": [
        "Execute the code cell below to play Blackjack with a random policy.  \n",
        "\n",
        "(_The code currently plays Blackjack three times - feel free to change this number, or to run the cell multiple times.  The cell is designed for you to get some experience with the output that is returned as the agent interacts with the environment._)"
      ]
    },
    {
      "cell_type": "code",
      "metadata": {
        "id": "fsLm7-kG2BxU",
        "colab_type": "code",
        "colab": {
          "base_uri": "https://localhost:8080/",
          "height": 218
        },
        "outputId": "b383d1d6-9f09-46c7-f470-6cc36dbd8781"
      },
      "source": [
        "for i_episode in range(3):\n",
        "    state = env.reset()\n",
        "    while True:\n",
        "        print(state)\n",
        "        action = env.action_space.sample()\n",
        "        state, reward, done, info = env.step(action)\n",
        "        if done:\n",
        "            print('End game! Reward: ', reward)\n",
        "            print('You won :)\\n') if reward > 0 else print('You lost :(\\n')\n",
        "            break"
      ],
      "execution_count": 17,
      "outputs": [
        {
          "output_type": "stream",
          "text": [
            "(17, 3, False)\n",
            "End game! Reward:  -1\n",
            "You lost :(\n",
            "\n",
            "(16, 10, False)\n",
            "End game! Reward:  -1.0\n",
            "You lost :(\n",
            "\n",
            "(19, 4, False)\n",
            "End game! Reward:  1.0\n",
            "You won :)\n",
            "\n"
          ],
          "name": "stdout"
        }
      ]
    },
    {
      "cell_type": "markdown",
      "metadata": {
        "id": "jkcb3RpR2BxY",
        "colab_type": "text"
      },
      "source": [
        "### Part 1: MC Prediction\n",
        "\n",
        "In this section, you will write your own implementation of MC prediction (for estimating the action-value function).  \n",
        "\n",
        "We will begin by investigating a policy where the player _almost_ always sticks if the sum of her cards exceeds 18.  In particular, she selects action `STICK` with 80% probability if the sum is greater than 18; and, if the sum is 18 or below, she selects action `HIT` with 80% probability.  The function `generate_episode_from_limit_stochastic` samples an episode using this policy. \n",
        "\n",
        "The function accepts as **input**:\n",
        "- `bj_env`: This is an instance of OpenAI Gym's Blackjack environment.\n",
        "\n",
        "It returns as **output**:\n",
        "- `episode`: This is a list of (state, action, reward) tuples (of tuples) and corresponds to $(S_0, A_0, R_1, \\ldots, S_{T-1}, A_{T-1}, R_{T})$, where $T$ is the final time step.  In particular, `episode[i]` returns $(S_i, A_i, R_{i+1})$, and `episode[i][0]`, `episode[i][1]`, and `episode[i][2]` return $S_i$, $A_i$, and $R_{i+1}$, respectively."
      ]
    },
    {
      "cell_type": "code",
      "metadata": {
        "id": "2sfls1zu2BxZ",
        "colab_type": "code",
        "colab": {}
      },
      "source": [
        "def generate_episode_from_limit_stochastic(bj_env):\n",
        "    episode = []\n",
        "    state = bj_env.reset()\n",
        "    while True:\n",
        "        probs = [0.8, 0.2] if state[0] > 18 else [0.2, 0.8]\n",
        "        action = np.random.choice(np.arange(2), p=probs)\n",
        "        next_state, reward, done, info = bj_env.step(action)\n",
        "        episode.append((state, action, reward))\n",
        "        state = next_state\n",
        "        if done:\n",
        "            break\n",
        "    return episode"
      ],
      "execution_count": 0,
      "outputs": []
    },
    {
      "cell_type": "markdown",
      "metadata": {
        "id": "5ICe4YJn2Bxb",
        "colab_type": "text"
      },
      "source": [
        "Execute the code cell below to play Blackjack with the policy. \n",
        "\n",
        "(*The code currently plays Blackjack three times - feel free to change this number, or to run the cell multiple times.  The cell is designed for you to gain some familiarity with the output of the `generate_episode_from_limit_stochastic` function.*)"
      ]
    },
    {
      "cell_type": "code",
      "metadata": {
        "id": "CroOReBJ2Bxc",
        "colab_type": "code",
        "colab": {
          "base_uri": "https://localhost:8080/",
          "height": 67
        },
        "outputId": "823290f6-439b-44e6-dc0d-51c909965731"
      },
      "source": [
        "for i in range(3):\n",
        "    print(generate_episode_from_limit_stochastic(env))"
      ],
      "execution_count": 19,
      "outputs": [
        {
          "output_type": "stream",
          "text": [
            "[((17, 6, False), 1, -1)]\n",
            "[((15, 10, False), 1, -1)]\n",
            "[((10, 10, False), 1, 0), ((14, 10, False), 1, 0), ((19, 10, False), 0, -1.0)]\n"
          ],
          "name": "stdout"
        }
      ]
    },
    {
      "cell_type": "markdown",
      "metadata": {
        "id": "sekFQoSW2Bxe",
        "colab_type": "text"
      },
      "source": [
        "Now, you are ready to write your own implementation of MC prediction.  Feel free to implement either first-visit or every-visit MC prediction; in the case of the Blackjack environment, the techniques are equivalent.\n",
        "\n",
        "Your algorithm has three arguments:\n",
        "- `env`: This is an instance of an OpenAI Gym environment.\n",
        "- `num_episodes`: This is the number of episodes that are generated through agent-environment interaction.\n",
        "- `generate_episode`: This is a function that returns an episode of interaction.\n",
        "- `gamma`: This is the discount rate.  It must be a value between 0 and 1, inclusive (default value: `1`).\n",
        "\n",
        "The algorithm returns as output:\n",
        "- `Q`: This is a dictionary (of one-dimensional arrays) where `Q[s][a]` is the estimated action value corresponding to state `s` and action `a`."
      ]
    },
    {
      "cell_type": "code",
      "metadata": {
        "id": "_kWimQWN2Bxf",
        "colab_type": "code",
        "colab": {}
      },
      "source": [
        "def mc_prediction_q(env, num_episodes, generate_episode, gamma=1.0):\n",
        "    # initialize empty dictionaries of arrays\n",
        "    returns_sum = defaultdict(lambda: np.zeros(env.action_space.n))\n",
        "    N = defaultdict(lambda: np.zeros(env.action_space.n))\n",
        "    Q = defaultdict(lambda: np.zeros(env.action_space.n))\n",
        "    # loop over episodes\n",
        "    for i_episode in range(1, num_episodes+1):\n",
        "        # monitor progress\n",
        "        if i_episode % 1000 == 0:\n",
        "            print(\"\\rEpisode {}/{}.\".format(i_episode, num_episodes), end=\"\")\n",
        "            sys.stdout.flush()\n",
        "        # generate an episode\n",
        "        episode = generate_episode(env)\n",
        "        # obtain the states, actions, and rewards\n",
        "        states, actions, rewards = zip(*episode)\n",
        "        # prepare for discounting\n",
        "        discounts = np.array([gamma**i for i in range(len(rewards)+1)])\n",
        "        # update the sum of the returns, number of visits, and action-value \n",
        "        # function estimates for each state-action pair in the episode\n",
        "        for i, state in enumerate(states):\n",
        "            returns_sum[state][actions[i]] += sum(rewards[i:]*discounts[:-(1+i)])\n",
        "            N[state][actions[i]] += 1.0\n",
        "            Q[state][actions[i]] = returns_sum[state][actions[i]] / N[state][actions[i]]\n",
        "    return Q"
      ],
      "execution_count": 0,
      "outputs": []
    },
    {
      "cell_type": "markdown",
      "metadata": {
        "id": "0FP3GJu42Bxj",
        "colab_type": "text"
      },
      "source": [
        "Use the cell below to obtain the action-value function estimate $Q$.  We have also plotted the corresponding state-value function.\n",
        "\n",
        "To check the accuracy of your implementation, compare the plot below to the corresponding plot in the solutions notebook **Monte_Carlo_Solution.ipynb**."
      ]
    },
    {
      "cell_type": "code",
      "metadata": {
        "id": "9BA9Y_FS2Bxk",
        "colab_type": "code",
        "colab": {}
      },
      "source": [
        "# obtain the action-value function\n",
        "Q = mc_prediction_q(env, 500000, generate_episode_from_limit_stochastic)\n",
        "\n",
        "# obtain the corresponding state-value function\n",
        "V_to_plot = dict((k,(k[0]>18)*(np.dot([0.8, 0.2],v)) + (k[0]<=18)*(np.dot([0.2, 0.8],v))) \\\n",
        "         for k, v in Q.items())\n",
        "\n",
        "# plot the state-value function\n",
        "plot_blackjack_values(V_to_plot)"
      ],
      "execution_count": 0,
      "outputs": []
    },
    {
      "cell_type": "markdown",
      "metadata": {
        "id": "QlfzgDiP2Bxo",
        "colab_type": "text"
      },
      "source": [
        "### Part 2: MC Control\n",
        "\n",
        "In this section, you will write your own implementation of constant-$\\alpha$ MC control.  \n",
        "\n",
        "Your algorithm has four arguments:\n",
        "- `env`: This is an instance of an OpenAI Gym environment.\n",
        "- `num_episodes`: This is the number of episodes that are generated through agent-environment interaction.\n",
        "- `alpha`: This is the step-size parameter for the update step.\n",
        "- `gamma`: This is the discount rate.  It must be a value between 0 and 1, inclusive (default value: `1`).\n",
        "\n",
        "The algorithm returns as output:\n",
        "- `Q`: This is a dictionary (of one-dimensional arrays) where `Q[s][a]` is the estimated action value corresponding to state `s` and action `a`.\n",
        "- `policy`: This is a dictionary where `policy[s]` returns the action that the agent chooses after observing state `s`.\n",
        "\n",
        "(_Feel free to define additional functions to help you to organize your code._)"
      ]
    },
    {
      "cell_type": "code",
      "metadata": {
        "id": "K1oy9Goc2Bxo",
        "colab_type": "code",
        "colab": {}
      },
      "source": [
        "def generate_episode_from_Q(env, Q, epsilon, nA):\n",
        "    \"\"\" generates an episode from following the epsilon-greedy policy \"\"\"\n",
        "    episode = []\n",
        "    state = env.reset()\n",
        "    while True:\n",
        "        action = np.random.choice(np.arange(nA), p=get_probs(Q[state], epsilon, nA)) \\\n",
        "                                    if state in Q else env.action_space.sample()\n",
        "        next_state, reward, done, info = env.step(action)\n",
        "        episode.append((state, action, reward))\n",
        "        state = next_state\n",
        "        if done:\n",
        "            break\n",
        "    return episode\n",
        "\n",
        "def get_probs(Q_s, epsilon, nA):\n",
        "    \"\"\" obtains the action probabilities corresponding to epsilon-greedy policy \"\"\"\n",
        "    policy_s = np.ones(nA) * epsilon / nA\n",
        "    best_a = np.argmax(Q_s)\n",
        "    policy_s[best_a] = 1 - epsilon + (epsilon / nA)\n",
        "    return policy_s\n",
        "\n",
        "def update_Q(env, episode, Q, alpha, gamma):\n",
        "    \"\"\" updates the action-value function estimate using the most recent episode \"\"\"\n",
        "    states, actions, rewards = zip(*episode)\n",
        "    # prepare for discounting\n",
        "    discounts = np.array([gamma**i for i in range(len(rewards)+1)])\n",
        "    for i, state in enumerate(states):\n",
        "        old_Q = Q[state][actions[i]] \n",
        "        Q[state][actions[i]] = old_Q + alpha*(sum(rewards[i:]*discounts[:-(1+i)]) - old_Q)\n",
        "    return Q"
      ],
      "execution_count": 0,
      "outputs": []
    },
    {
      "cell_type": "code",
      "metadata": {
        "id": "UfY-Zk1O2Bxs",
        "colab_type": "code",
        "colab": {}
      },
      "source": [
        "def mc_control(env, num_episodes, alpha, gamma=1.0, eps_start=1.0, eps_decay=.99999, eps_min=0.05):\n",
        "    nA = env.action_space.n\n",
        "    # initialize empty dictionary of arrays\n",
        "    Q = defaultdict(lambda: np.zeros(nA))\n",
        "    epsilon = eps_start\n",
        "    # loop over episodes\n",
        "    for i_episode in range(1, num_episodes+1):\n",
        "        # monitor progress\n",
        "        if i_episode % 1000 == 0:\n",
        "            print(\"\\rEpisode {}/{}.\".format(i_episode, num_episodes), end=\"\")\n",
        "            sys.stdout.flush()\n",
        "        # set the value of epsilon\n",
        "        epsilon = max(epsilon*eps_decay, eps_min)\n",
        "        # generate an episode by following epsilon-greedy policy\n",
        "        episode = generate_episode_from_Q(env, Q, epsilon, nA)\n",
        "        # update the action-value function estimate using the episode\n",
        "        Q = update_Q(env, episode, Q, alpha, gamma)\n",
        "    # determine the policy corresponding to the final action-value function estimate\n",
        "    policy = dict((k,np.argmax(v)) for k, v in Q.items())\n",
        "    return policy, Q"
      ],
      "execution_count": 0,
      "outputs": []
    },
    {
      "cell_type": "markdown",
      "metadata": {
        "id": "nxRpE8-g2Bxu",
        "colab_type": "text"
      },
      "source": [
        "Use the cell below to obtain the estimated optimal policy and action-value function.  Note that you should fill in your own values for the `num_episodes` and `alpha` parameters."
      ]
    },
    {
      "cell_type": "code",
      "metadata": {
        "id": "C49giGLt2Bxv",
        "colab_type": "code",
        "colab": {
          "base_uri": "https://localhost:8080/",
          "height": 34
        },
        "outputId": "82031953-0a59-4c0a-a49e-9fe544e1db4f"
      },
      "source": [
        "# obtain the estimated optimal policy and action-value function\n",
        "policy, Q = mc_control(env, 500000, 0.02)"
      ],
      "execution_count": 24,
      "outputs": [
        {
          "output_type": "stream",
          "text": [
            "Episode 500000/500000."
          ],
          "name": "stdout"
        }
      ]
    },
    {
      "cell_type": "markdown",
      "metadata": {
        "id": "agJbrVRr2Bxz",
        "colab_type": "text"
      },
      "source": [
        "Next, we plot the corresponding state-value function."
      ]
    },
    {
      "cell_type": "code",
      "metadata": {
        "scrolled": true,
        "id": "GkhUT39N2Bx0",
        "colab_type": "code",
        "colab": {}
      },
      "source": [
        "# obtain the corresponding state-value function\n",
        "V = dict((k,np.max(v)) for k, v in Q.items())\n",
        "\n",
        "# plot the state-value function\n",
        "plot_blackjack_values(V)"
      ],
      "execution_count": 0,
      "outputs": []
    },
    {
      "cell_type": "markdown",
      "metadata": {
        "id": "OmZPFpLz2Bx2",
        "colab_type": "text"
      },
      "source": [
        "Finally, we visualize the policy that is estimated to be optimal."
      ]
    },
    {
      "cell_type": "code",
      "metadata": {
        "id": "7G7A0Ifx2Bx3",
        "colab_type": "code",
        "colab": {}
      },
      "source": [
        "# plot the policy\n",
        "plot_policy(policy)"
      ],
      "execution_count": 0,
      "outputs": []
    },
    {
      "cell_type": "markdown",
      "metadata": {
        "id": "hTiYfU7n2Bx7",
        "colab_type": "text"
      },
      "source": [
        "The **true** optimal policy $\\pi_*$ can be found in Figure 5.2 of the [textbook](http://go.udacity.com/rl-textbook) (and appears below).  Compare your final estimate to the optimal policy - how close are you able to get?  If you are not happy with the performance of your algorithm, take the time to tweak the decay rate of $\\epsilon$, change the value of $\\alpha$, and/or run the algorithm for more episodes to attain better results.\n",
        "\n",
        "![True Optimal Policy](images/optimal.png)"
      ]
    }
  ]
}